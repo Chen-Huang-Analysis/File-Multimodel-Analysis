{
 "cells": [
  {
   "metadata": {},
   "cell_type": "markdown",
   "source": "# This notebook only extract graph, text, layout from PDF files",
   "id": "25844c6413dd313c"
  },
  {
   "metadata": {},
   "cell_type": "markdown",
   "source": "### Read PDF Data",
   "id": "971c2bb4b0f58f98"
  },
  {
   "metadata": {},
   "cell_type": "code",
   "source": [
    "PDF_File_Path=\"../Data/PDF\"\n",
    "PDF_Extract_Output_Path=\"../Data/PDF-Extract\"\n",
    "print(\"PDF file path: \", PDF_File_Path)"
   ],
   "id": "bee933afc002b5f0",
   "outputs": [],
   "execution_count": null
  },
  {
   "metadata": {},
   "cell_type": "code",
   "source": [
    "import fitz  # pip install PyMuPDF\n",
    "import os\n",
    "import base64\n",
    "\n",
    "def extract_with_layout(pdf_path, output_dir=\"output\"):\n",
    "    os.makedirs(output_dir, exist_ok=True)\n",
    "    doc = fitz.open(pdf_path)\n",
    "\n",
    "    for page_index, page in enumerate(doc, start=1):\n",
    "        # 获取结构化内容，包括文本块与图像块\n",
    "        pagedict = page.get_text(\"dict\", sort=True)\n",
    "        items = pagedict[\"blocks\"]\n",
    "\n",
    "        # 保存为 HTML，能直观保留文字布局与图片\n",
    "        html = page.get_text(\"html\")\n",
    "        with open(os.path.join(output_dir, f\"page{page_index}.html\"), \"w\", encoding=\"utf-8\") as f:\n",
    "            f.write(html)\n",
    "\n",
    "        # 遍历块，识别图像和文字\n",
    "        for block in items:\n",
    "            if block[\"type\"] == 1:  # 图像块\n",
    "                img = block[\"image\"]\n",
    "                ext = block.get(\"ext\", \"png\")\n",
    "                x0, y0, x1, y1 = block[\"bbox\"]\n",
    "                img_filename = os.path.join(output_dir, f\"page{page_index}_img_{int(x0)}_{int(y0)}.{ext}\")\n",
    "                with open(img_filename, \"wb\") as imgf:\n",
    "                    imgf.write(img)\n",
    "                print(f\"Page {page_index}: image saved → {img_filename}\")\n",
    "            elif block[\"type\"] == 0:  # 文本块\n",
    "                text = block[\"lines\"]\n",
    "                bbox = block[\"bbox\"]\n",
    "                print(f\"Page {page_index} text block at {bbox}:\")\n",
    "                for line in text:\n",
    "                    spans = line[\"spans\"]\n",
    "                    for span in spans:\n",
    "                        print(span[\"text\"], end=\"\")\n",
    "                print(\"\\n\")\n"
   ],
   "id": "22f5201381f50947",
   "outputs": [],
   "execution_count": null
  },
  {
   "metadata": {
    "ExecuteTime": {
     "end_time": "2025-06-18T10:44:01.604738Z",
     "start_time": "2025-06-18T10:44:01.460131Z"
    }
   },
   "cell_type": "code",
   "source": [
    "# extract_with_layout(\"../Data/PDF/2023-CSR-report_e.pdf\")\n",
    "from olmocr import OLMOCR\n",
    "\n",
    "ocr = OLMOCR()\n",
    "result = ocr.process(\"../Data/PDF/2023-CSR-report_e.pdf\", output_format=\"text\")\n",
    "# result 是按阅读顺序的纯文本字符串\n",
    "print(result)"
   ],
   "id": "1ef5d97eff068489",
   "outputs": [
    {
     "ename": "ImportError",
     "evalue": "cannot import name 'OLMOCR' from 'olmocr' (C:\\Users\\Tommy\\anaconda3\\envs\\Multimodel_Analysis\\Lib\\site-packages\\olmocr\\__init__.py)",
     "output_type": "error",
     "traceback": [
      "\u001B[31m---------------------------------------------------------------------------\u001B[39m",
      "\u001B[31mImportError\u001B[39m                               Traceback (most recent call last)",
      "\u001B[36mCell\u001B[39m\u001B[36m \u001B[39m\u001B[32mIn[1]\u001B[39m\u001B[32m, line 2\u001B[39m\n\u001B[32m      1\u001B[39m \u001B[38;5;66;03m# extract_with_layout(\"../Data/PDF/2023-CSR-report_e.pdf\")\u001B[39;00m\n\u001B[32m----> \u001B[39m\u001B[32m2\u001B[39m \u001B[38;5;28;01mfrom\u001B[39;00m\u001B[38;5;250m \u001B[39m\u001B[34;01molmocr\u001B[39;00m\u001B[38;5;250m \u001B[39m\u001B[38;5;28;01mimport\u001B[39;00m OLMOCR\n\u001B[32m      4\u001B[39m ocr = OLMOCR()\n\u001B[32m      5\u001B[39m result = ocr.process(\u001B[33m\"\u001B[39m\u001B[33m../Data/PDF/2023-CSR-report_e.pdf\u001B[39m\u001B[33m\"\u001B[39m, output_format=\u001B[33m\"\u001B[39m\u001B[33mtext\u001B[39m\u001B[33m\"\u001B[39m)\n",
      "\u001B[31mImportError\u001B[39m: cannot import name 'OLMOCR' from 'olmocr' (C:\\Users\\Tommy\\anaconda3\\envs\\Multimodel_Analysis\\Lib\\site-packages\\olmocr\\__init__.py)"
     ]
    }
   ],
   "execution_count": 1
  }
 ],
 "metadata": {
  "kernelspec": {
   "display_name": "Python 3",
   "language": "python",
   "name": "python3"
  },
  "language_info": {
   "codemirror_mode": {
    "name": "ipython",
    "version": 2
   },
   "file_extension": ".py",
   "mimetype": "text/x-python",
   "name": "python",
   "nbconvert_exporter": "python",
   "pygments_lexer": "ipython2",
   "version": "2.7.6"
  }
 },
 "nbformat": 4,
 "nbformat_minor": 5
}
