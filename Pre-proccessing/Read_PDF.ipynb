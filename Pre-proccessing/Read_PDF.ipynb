{
 "cells": [
  {
   "metadata": {},
   "cell_type": "markdown",
   "source": "# This notebook only extract graph, text, layout from PDF files",
   "id": "25844c6413dd313c"
  },
  {
   "metadata": {},
   "cell_type": "markdown",
   "source": "### Read PDF Data",
   "id": "971c2bb4b0f58f98"
  },
  {
   "metadata": {
    "ExecuteTime": {
     "end_time": "2025-06-18T16:08:19.281206Z",
     "start_time": "2025-06-18T16:08:19.277192Z"
    }
   },
   "cell_type": "code",
   "source": [
    "PDF_File_Path=\"../Data/PDF\"\n",
    "PDF_Extract_Output_Path=\"../Data/PDF-Extract\"\n",
    "print(\"PDF file path: \", PDF_File_Path)"
   ],
   "id": "bee933afc002b5f0",
   "outputs": [
    {
     "name": "stdout",
     "output_type": "stream",
     "text": [
      "PDF file path:  ../Data/PDF\n"
     ]
    }
   ],
   "execution_count": 1
  },
  {
   "metadata": {},
   "cell_type": "markdown",
   "source": "### The sample of text extraction (only 1 pdf)",
   "id": "4776fcbd25d049e7"
  },
  {
   "metadata": {
    "jupyter": {
     "is_executing": true
    },
    "ExecuteTime": {
     "start_time": "2025-06-18T16:08:19.293248Z"
    }
   },
   "cell_type": "code",
   "source": [
    "import fitz  # pip install PyMuPDF\n",
    "import os\n",
    "import base64\n",
    "\n",
    "# def extract_with_layout(pdf_path, output_dir=\"output\"):\n",
    "#     os.makedirs(output_dir, exist_ok=True)\n",
    "#     doc = fitz.open(pdf_path)\n",
    "#\n",
    "#     for page_index, page in enumerate(doc, start=1):\n",
    "#         # 获取结构化内容，包括文本块与图像块\n",
    "#         pagedict = page.get_text(\"dict\", sort=True)\n",
    "#         items = pagedict[\"blocks\"]\n",
    "#\n",
    "#         # 保存为 HTML，能直观保留文字布局与图片\n",
    "#         html = page.get_text(\"html\")\n",
    "#         with open(os.path.join(output_dir, f\"page{page_index}.html\"), \"w\", encoding=\"utf-8\") as f:\n",
    "#             f.write(html)\n",
    "#\n",
    "#         # 遍历块，识别图像和文字\n",
    "#         for block in items:\n",
    "#             if block[\"type\"] == 1:  # 图像块\n",
    "#                 img = block[\"image\"]\n",
    "#                 ext = block.get(\"ext\", \"png\")\n",
    "#                 x0, y0, x1, y1 = block[\"bbox\"]\n",
    "#                 img_filename = os.path.join(output_dir, f\"page{page_index}_img_{int(x0)}_{int(y0)}.{ext}\")\n",
    "#                 with open(img_filename, \"wb\") as imgf:\n",
    "#                     imgf.write(img)\n",
    "#                 print(f\"Page {page_index}: image saved → {img_filename}\")\n",
    "#             elif block[\"type\"] == 0:  # 文本块\n",
    "#                 text = block[\"lines\"]\n",
    "#                 bbox = block[\"bbox\"]\n",
    "#                 print(f\"Page {page_index} text block at {bbox}:\")\n",
    "#                 for line in text:\n",
    "#                     spans = line[\"spans\"]\n",
    "#                     for span in spans:\n",
    "#                         print(span[\"text\"], end=\"\")\n",
    "#                 print(\"\\n\")\n",
    "import torch\n",
    "import base64\n",
    "import urllib.request\n",
    "\n",
    "from io import BytesIO\n",
    "from PIL import Image\n",
    "from transformers import AutoProcessor, Qwen2VLForConditionalGeneration\n",
    "\n",
    "from olmocr.data.renderpdf import render_pdf_to_base64png\n",
    "from olmocr.prompts import build_finetuning_prompt\n",
    "from olmocr.prompts.anchor import get_anchor_text\n",
    "\n",
    "# Initialize the model\n",
    "model = Qwen2VLForConditionalGeneration.from_pretrained(\"allenai/olmOCR-7B-0225-preview\", torch_dtype=torch.bfloat16).eval()\n",
    "processor = AutoProcessor.from_pretrained(\"Qwen/Qwen2-VL-7B-Instruct\")\n",
    "device = torch.device(\"cuda\" if torch.cuda.is_available() else \"cpu\")\n",
    "model.to(device)\n",
    "\n",
    "# Grab a sample PDF\n",
    "# urllib.request.urlretrieve(\"https://molmo.allenai.org/paper.pdf\", \"./paper.pdf\")\n",
    "\n",
    "# Render page 1 to an image\n",
    "image_base64 = render_pdf_to_base64png(\"./Data/PDF/2023-CSR-report_e.pdf\", 1, target_longest_image_dim=1024)\n",
    "\n",
    "# Build the prompt, using document metadata\n",
    "anchor_text = get_anchor_text(\"./Data/PDF/2023-CSR-report_e.pdf\", 1, pdf_engine=\"pdfreport\", target_length=4000)\n",
    "prompt = build_finetuning_prompt(anchor_text)\n",
    "\n",
    "# Build the full prompt\n",
    "messages = [\n",
    "            {\n",
    "                \"role\": \"user\",\n",
    "                \"content\": [\n",
    "                    {\"type\": \"text\", \"text\": prompt},\n",
    "                    {\"type\": \"image_url\", \"image_url\": {\"url\": f\"data:image/png;base64,{image_base64}\"}},\n",
    "                ],\n",
    "            }\n",
    "        ]\n",
    "\n",
    "# Apply the chat template and processor\n",
    "text = processor.apply_chat_template(messages, tokenize=False, add_generation_prompt=True)\n",
    "main_image = Image.open(BytesIO(base64.b64decode(image_base64)))\n",
    "\n",
    "inputs = processor(\n",
    "    text=[text],\n",
    "    images=[main_image],\n",
    "    padding=True,\n",
    "    return_tensors=\"pt\",\n",
    ")\n",
    "inputs = {key: value.to(device) for (key, value) in inputs.items()}\n",
    "\n",
    "\n",
    "# Generate the output\n",
    "output = model.generate(\n",
    "            **inputs,\n",
    "            temperature=0.8,\n",
    "            max_new_tokens=50,\n",
    "            num_return_sequences=1,\n",
    "            do_sample=True,\n",
    "        )\n",
    "\n",
    "# Decode the output\n",
    "prompt_length = inputs[\"input_ids\"].shape[1]\n",
    "new_tokens = output[:, prompt_length:]\n",
    "text_output = processor.tokenizer.batch_decode(\n",
    "    new_tokens, skip_special_tokens=True\n",
    ")\n",
    "\n",
    "print(text_output)\n",
    "# ['{\"primary_language\":\"en\",\"is_rotation_valid\":true,\"rotation_correction\":0,\"is_table\":false,\"is_diagram\":false,\"natural_text\":\"Molmo and PixMo:\\\\nOpen Weights and Open Data\\\\nfor State-of-the']\n"
   ],
   "id": "22f5201381f50947",
   "outputs": [
    {
     "name": "stderr",
     "output_type": "stream",
     "text": [
      "C:\\Users\\Tommy\\anaconda3\\envs\\MultiModel_Analysis\\Lib\\site-packages\\tqdm\\auto.py:21: TqdmWarning: IProgress not found. Please update jupyter and ipywidgets. See https://ipywidgets.readthedocs.io/en/stable/user_install.html\n",
      "  from .autonotebook import tqdm as notebook_tqdm\n",
      "Fetching 4 files:   0%|          | 0/4 [00:00<?, ?it/s]"
     ]
    }
   ],
   "execution_count": null
  },
  {
   "metadata": {},
   "cell_type": "code",
   "source": "# extract_with_layout(\"../Data/PDF/2023-CSR-report_e.pdf\")\n",
   "id": "1ef5d97eff068489",
   "outputs": [],
   "execution_count": null
  }
 ],
 "metadata": {
  "kernelspec": {
   "display_name": "Python 3",
   "language": "python",
   "name": "python3"
  },
  "language_info": {
   "codemirror_mode": {
    "name": "ipython",
    "version": 2
   },
   "file_extension": ".py",
   "mimetype": "text/x-python",
   "name": "python",
   "nbconvert_exporter": "python",
   "pygments_lexer": "ipython2",
   "version": "2.7.6"
  }
 },
 "nbformat": 4,
 "nbformat_minor": 5
}
