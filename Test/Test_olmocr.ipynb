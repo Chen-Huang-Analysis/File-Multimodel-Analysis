{
 "cells": [
  {
   "metadata": {},
   "cell_type": "markdown",
   "source": "### The sample of text extraction (only 1 pdf)",
   "id": "8e2a787a6fc1f909"
  },
  {
   "cell_type": "code",
   "id": "initial_id",
   "metadata": {
    "collapsed": true,
    "ExecuteTime": {
     "end_time": "2025-06-21T10:09:40.034206Z",
     "start_time": "2025-06-21T09:48:08.589259Z"
    }
   },
   "source": [
    "import torch\n",
    "import base64\n",
    "import os\n",
    "from io import BytesIO\n",
    "from PIL import Image\n",
    "from transformers import AutoProcessor, Qwen2VLForConditionalGeneration\n",
    "\n",
    "from olmocr.data.renderpdf import render_pdf_to_base64png\n",
    "from olmocr.prompts import build_finetuning_prompt\n",
    "from olmocr.prompts.anchor import get_anchor_text\n",
    "\n",
    "# Initialize the model\n",
    "model = Qwen2VLForConditionalGeneration.from_pretrained(\"allenai/olmOCR-7B-0225-preview\", torch_dtype=torch.bfloat16).eval()\n",
    "processor = AutoProcessor.from_pretrained(\"Qwen/Qwen2-VL-7B-Instruct\",use_fast=True)\n",
    "device = torch.device(\"cuda\" if torch.cuda.is_available() else \"cpu\")\n",
    "model.to(device)\n",
    "\n",
    "# Grab a sample PDF\n",
    "# urllib.request.urlretrieve(\"https://molmo.allenai.org/paper.pdf\", \"./paper.pdf\")\n",
    "\n",
    "# Render page 1 to an image\n",
    "image_base64 = render_pdf_to_base64png(\"C:/Users/Tommy/Downloads/ESGreporttemplate/A/2023-CSR-report_e.pdf\", 6, target_longest_image_dim=1024)\n",
    "\n",
    "# Build the prompt, using document metadata\n",
    "# anchor_text = get_anchor_text(\"C:/Users/Tommy/Downloads/ESGreporttemplate/A/2023-CSR-report_e.pdf\", 5, pdf_engine=\"pdfreport\", target_length=4000)\n",
    "# prompt = build_finetuning_prompt(anchor_text)\n",
    "\n",
    "#print(prompt)\n",
    "# Build the full prompt\n",
    "messages = [\n",
    "            {\n",
    "                \"role\": \"user\",\n",
    "                \"content\": [\n",
    "                    {\"type\": \"text\", \"text\": \"Below is the image of one page of a document, as well as some raw textual content that was previously extracted for it. Just return the plain text representation of this document as if you were reading it naturally. Do not hallucinate. output **only** the natural text content.\"},\n",
    "                    {\"type\": \"image_url\", \"image_url\": {\"url\": f\"data:image/png;base64,{image_base64}\"}},\n",
    "                ],\n",
    "            }\n",
    "        ]\n",
    "\n",
    "# Apply the chat template and processor\n",
    "text = processor.apply_chat_template(messages, tokenize=False, add_generation_prompt=True)\n",
    "main_image = Image.open(BytesIO(base64.b64decode(image_base64)))\n",
    "\n",
    "inputs = processor(\n",
    "    text=[text],\n",
    "    images=[main_image],\n",
    "    padding=True,\n",
    "    return_tensors=\"pt\",\n",
    ")\n",
    "inputs = {key: value.to(device) for (key, value) in inputs.items()}\n",
    "\n",
    "\n",
    "# Generate the output\n",
    "output = model.generate(\n",
    "            **inputs,\n",
    "            temperature=0.8,\n",
    "            max_new_tokens=4000,\n",
    "            num_return_sequences=1,\n",
    "            do_sample=True,\n",
    "        )\n",
    "\n",
    "# Decode the output\n",
    "prompt_length = inputs[\"input_ids\"].shape[1]\n",
    "new_tokens = output[:, prompt_length:]\n",
    "text_output = processor.tokenizer.batch_decode(\n",
    "    new_tokens,\n",
    "    skip_special_tokens=True\n",
    ")\n",
    "\n",
    "print(text_output)\n",
    "# ['{\"primary_language\":\"en\",\"is_rotation_valid\":true,\"rotation_correction\":0,\"is_table\":false,\"is_diagram\":false,\"natural_text\":\"Molmo and PixMo:\\\\nOpen Weights and Open Data\\\\nfor State-of-the']\n"
   ],
   "outputs": [
    {
     "name": "stderr",
     "output_type": "stream",
     "text": [
      "C:\\Users\\Tommy\\anaconda3\\envs\\MultiModel_Analysis\\Lib\\site-packages\\tqdm\\auto.py:21: TqdmWarning: IProgress not found. Please update jupyter and ipywidgets. See https://ipywidgets.readthedocs.io/en/stable/user_install.html\n",
      "  from .autonotebook import tqdm as notebook_tqdm\n",
      "Loading checkpoint shards: 100%|██████████| 4/4 [00:00<00:00, 14.54it/s]\n",
      "You have video processor config saved in `preprocessor.json` file which is deprecated. Video processor configs should be saved in their own `video_preprocessor.json` file. You can rename the file or load and save the processor back which renames it automatically. Loading from `preprocessor.json` will be removed in v5.0.\n"
     ]
    },
    {
     "name": "stdout",
     "output_type": "stream",
     "text": [
      "['{\"primary_language\":\"en\",\"is_rotation_valid\":true,\"rotation_correction\":0,\"is_table\":false,\"is_diagram\":false,\"natural_text\":\"About Taishin\\\\n\\\\nCompany Profile\\\\n\\\\nBasic Information\\\\nEstablished in 2002, Taishin FHC is committed to leading its subsidiaries and related companies with innovative business models based on the core values of \\\\\"Integrity, Commitment, Innovation, and Collaboration\\\\\" to continue to provide more comprehensive services and innovative products. With high-quality services, we have earned the recognition and trust of society, worked side-by-side with our clients, and become their \\\\\"Smart Partner\\\\\". We aim to become a consistent and growing trustworthy financial institution, a role model in corporate governance and social responsibilities, a leader of Taiwan’s financial industry, and a leading brand of the Chinese community.\\\\n\\\\nGlobal Operation Strategy\\\\nIn order to establish a complete financial network, accelerate the internationalization of business goals, and strengthen its competitiveness, Taishin FHC completed the merger of Prudential Life Insurance on June 30, 2021 and the name changed to Taishin Life, becoming a comprehensive financial holding company with banking, insurance, and securities services as its three core drivers. Other subsidiaries operate diverse financial services including venture capital, securities investment trust, securities investment advisory, asset management, and leasing.\\\\n\\\\nIn terms of overseas deployment, Taishin FHC has targeted the Asia and Pan-Pacific regions, focusing particularly on the ASEAN countries in response to the government’s New Southbound Policy and the financial service needs and business opportunities of overseas Taiwanese businesses. The subsidiary Taishin Bank has submitted an application to the State Bank of Vietnam to establish a branch in Long An, Vietnam, and is currently actively preparing for its establishment. In addition, the representative office in Bangkok, Thailand, the Labuan Branch, and the Kuala Lumpur Marketing Office in Malaysia were established, further expanding the ASEAN market. In 2023, Taishin Bank received the approval of government authorities in Taiwan and Japan to establish a branch in Fukuoka, which is a sub-branch of our Tokyo branch and was opened on April 23, 2024. Furthermore, in order to provide convenient financial services to clients from China, Hong Kong, and Taiwan, Taishin FHC not only invested and established a financial leasing company in Nanjing, China through D.A. Finance, a subsidiary of Taishin Bank in the Greater China market, but also successively founded branch offices in Dongguan, Suzhou, Shanghai, Chongqing, Wuhan, etc., with services offered through its operation network in 19 cities of China. Moreover, Taishin Bank also established a Representative Office in Shanghai. Taishin Bank currently has branches in Hong Kong, Singapore, Japan (Tokyo), Australia (Brisbane), and Malaysia (Labuan Branch and Kuala Lumpur Marketing Office) as well as representative offices in Vietnam (Ho Chi Minh City), Myanmar (Yangon), China (Shanghai), and Thailand (Bangkok).\\\\n\\\\nIn the future, we will continue to deepen our overseas market deployment. We will replicate Taishin’s high-quality financial services overseas and continue to expand the market with the goal of integrating excellent financial institutions in the Asia-Pacific region.\\\\n\\\\nAbout This Report\\\\nMessage From the Chairman\\\\nMessage From the President\\\\nAbout Taishin\\\\nCompany Profile\\\\nBusiness Performance\\\\nSustainability Project\\\\nSustainability Awards and Recognition\\\\n1. Sustainability Strategy\\\\n2. Sustainability Governance\\\\n3. Climate Strategy\\\\n4. Green Operation\\\\n5. Sustainable Finance\\\\n6. Smart Services\\\\n7. Employee Care\\\\n8. Social Inclusion\\\\nAppendix\\\\n\\\\nTaishin Bank\\\\n101 domestic branches,\\\\n5 overseas branches, and\\\\n4 overseas representative offices\\\\n\\\\nTaishin Securities\\\\n12 domestic business locations,\\\\n24 overseas offices and\\\\n101 domestic service counters\\\\n\\\\nTaishin Securities Investment Trust\\\\n3 domestic business locations\\\\n\\\\nTaishin Financial Leasing\\\\n19 domestic business locations\\\\n\\\\nTaishin Life\\\\n24 city-based financial leasing offices in\\\\nChina\\\\n\\\\nHeadquarter Address\\\\nNo.118, Sec.4, Ren’ai Rd., Taipei City106, Taiwan\\\\n\\\\nCountry of Operation\\\\nTaiwan, China, Hong Kong, Singapore, Japan, Australia, Malaysia, etc.\\\\n\\\\nCapital Amount (NTS thousand)\\\\n138,770,618\\\\n\\\\nTotal Assets (NTS thousand)\\\\n3,035,951,370\\\\n\\\\nPermanent Employees\\\\n11,172\\\\n\\\\nDepartment\\\\nprivate sector\\\\n\\\\nIndustry\\\\nFinancial services\\\\n\\\\nStock Code\\\\n2887\\\\n\\\\nDate as of December 31, 2023\"}']\n"
     ]
    }
   ],
   "execution_count": 1
  },
  {
   "metadata": {},
   "cell_type": "markdown",
   "source": "### Extract the natural text from 1 page pdf",
   "id": "9afe0117b4106776"
  },
  {
   "metadata": {
    "ExecuteTime": {
     "end_time": "2025-06-21T10:09:43.060774Z",
     "start_time": "2025-06-21T10:09:43.054388Z"
    }
   },
   "cell_type": "code",
   "source": [
    "import json\n",
    "\n",
    "output_data = json.loads(text_output[0])\n",
    "print(output_data['natural_text'])\n",
    "# !python -m olmocr.pipeline ./localworkspace --markdown --pdfs D:\\pycharmProjects\\File-Multimodel-Analysis\\Data\\PDF\\2023-CSR-report_e.pdf"
   ],
   "id": "e2f74868cdb3d262",
   "outputs": [
    {
     "name": "stdout",
     "output_type": "stream",
     "text": [
      "About Taishin\n",
      "\n",
      "Company Profile\n",
      "\n",
      "Basic Information\n",
      "Established in 2002, Taishin FHC is committed to leading its subsidiaries and related companies with innovative business models based on the core values of \"Integrity, Commitment, Innovation, and Collaboration\" to continue to provide more comprehensive services and innovative products. With high-quality services, we have earned the recognition and trust of society, worked side-by-side with our clients, and become their \"Smart Partner\". We aim to become a consistent and growing trustworthy financial institution, a role model in corporate governance and social responsibilities, a leader of Taiwan’s financial industry, and a leading brand of the Chinese community.\n",
      "\n",
      "Global Operation Strategy\n",
      "In order to establish a complete financial network, accelerate the internationalization of business goals, and strengthen its competitiveness, Taishin FHC completed the merger of Prudential Life Insurance on June 30, 2021 and the name changed to Taishin Life, becoming a comprehensive financial holding company with banking, insurance, and securities services as its three core drivers. Other subsidiaries operate diverse financial services including venture capital, securities investment trust, securities investment advisory, asset management, and leasing.\n",
      "\n",
      "In terms of overseas deployment, Taishin FHC has targeted the Asia and Pan-Pacific regions, focusing particularly on the ASEAN countries in response to the government’s New Southbound Policy and the financial service needs and business opportunities of overseas Taiwanese businesses. The subsidiary Taishin Bank has submitted an application to the State Bank of Vietnam to establish a branch in Long An, Vietnam, and is currently actively preparing for its establishment. In addition, the representative office in Bangkok, Thailand, the Labuan Branch, and the Kuala Lumpur Marketing Office in Malaysia were established, further expanding the ASEAN market. In 2023, Taishin Bank received the approval of government authorities in Taiwan and Japan to establish a branch in Fukuoka, which is a sub-branch of our Tokyo branch and was opened on April 23, 2024. Furthermore, in order to provide convenient financial services to clients from China, Hong Kong, and Taiwan, Taishin FHC not only invested and established a financial leasing company in Nanjing, China through D.A. Finance, a subsidiary of Taishin Bank in the Greater China market, but also successively founded branch offices in Dongguan, Suzhou, Shanghai, Chongqing, Wuhan, etc., with services offered through its operation network in 19 cities of China. Moreover, Taishin Bank also established a Representative Office in Shanghai. Taishin Bank currently has branches in Hong Kong, Singapore, Japan (Tokyo), Australia (Brisbane), and Malaysia (Labuan Branch and Kuala Lumpur Marketing Office) as well as representative offices in Vietnam (Ho Chi Minh City), Myanmar (Yangon), China (Shanghai), and Thailand (Bangkok).\n",
      "\n",
      "In the future, we will continue to deepen our overseas market deployment. We will replicate Taishin’s high-quality financial services overseas and continue to expand the market with the goal of integrating excellent financial institutions in the Asia-Pacific region.\n",
      "\n",
      "About This Report\n",
      "Message From the Chairman\n",
      "Message From the President\n",
      "About Taishin\n",
      "Company Profile\n",
      "Business Performance\n",
      "Sustainability Project\n",
      "Sustainability Awards and Recognition\n",
      "1. Sustainability Strategy\n",
      "2. Sustainability Governance\n",
      "3. Climate Strategy\n",
      "4. Green Operation\n",
      "5. Sustainable Finance\n",
      "6. Smart Services\n",
      "7. Employee Care\n",
      "8. Social Inclusion\n",
      "Appendix\n",
      "\n",
      "Taishin Bank\n",
      "101 domestic branches,\n",
      "5 overseas branches, and\n",
      "4 overseas representative offices\n",
      "\n",
      "Taishin Securities\n",
      "12 domestic business locations,\n",
      "24 overseas offices and\n",
      "101 domestic service counters\n",
      "\n",
      "Taishin Securities Investment Trust\n",
      "3 domestic business locations\n",
      "\n",
      "Taishin Financial Leasing\n",
      "19 domestic business locations\n",
      "\n",
      "Taishin Life\n",
      "24 city-based financial leasing offices in\n",
      "China\n",
      "\n",
      "Headquarter Address\n",
      "No.118, Sec.4, Ren’ai Rd., Taipei City106, Taiwan\n",
      "\n",
      "Country of Operation\n",
      "Taiwan, China, Hong Kong, Singapore, Japan, Australia, Malaysia, etc.\n",
      "\n",
      "Capital Amount (NTS thousand)\n",
      "138,770,618\n",
      "\n",
      "Total Assets (NTS thousand)\n",
      "3,035,951,370\n",
      "\n",
      "Permanent Employees\n",
      "11,172\n",
      "\n",
      "Department\n",
      "private sector\n",
      "\n",
      "Industry\n",
      "Financial services\n",
      "\n",
      "Stock Code\n",
      "2887\n",
      "\n",
      "Date as of December 31, 2023\n"
     ]
    }
   ],
   "execution_count": 2
  }
 ],
 "metadata": {
  "kernelspec": {
   "display_name": "Python 3",
   "language": "python",
   "name": "python3"
  },
  "language_info": {
   "codemirror_mode": {
    "name": "ipython",
    "version": 2
   },
   "file_extension": ".py",
   "mimetype": "text/x-python",
   "name": "python",
   "nbconvert_exporter": "python",
   "pygments_lexer": "ipython2",
   "version": "2.7.6"
  }
 },
 "nbformat": 4,
 "nbformat_minor": 5
}
