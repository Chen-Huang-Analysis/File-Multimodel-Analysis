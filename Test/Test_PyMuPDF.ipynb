{
 "cells": [
  {
   "cell_type": "code",
   "id": "initial_id",
   "metadata": {
    "collapsed": true
   },
   "source": [
    "import fitz  # pip install PyMuPDF\n",
    "import os\n",
    "import base64\n",
    "\n",
    "def extract_with_layout(pdf_path, output_dir=\"output\"):\n",
    "    #os.makedirs(output_dir, exist_ok=True)\n",
    "    doc = fitz.open(pdf_path)\n",
    "    for page_index, page in enumerate(doc, start=1):\n",
    "        print(page_index)\n",
    "       # 获取结构化内容，包括文本块与图像块\n",
    "        pagedict = page.get_text(\"dict\", sort=True)\n",
    "        items = pagedict[\"blocks\"]\n",
    "\n",
    "        # 保存为 HTML，能直观保留文字布局与图片\n",
    "        #html = page.get_text(\"html\")\n",
    "        # with open(os.path.join(output_dir, f\"page{page_index}.html\"), \"w\", encoding=\"utf-8\") as f:\n",
    "        #     f.write(html)\n",
    "\n",
    "        # 遍历块，识别图像和文字\n",
    "        for block in items:\n",
    "            if block[\"type\"] == 1:  # 图像块\n",
    "                img = block[\"image\"]\n",
    "                ext = block.get(\"ext\", \"png\")\n",
    "                x0, y0, x1, y1 = block[\"bbox\"]\n",
    "                img_filename = os.path.join(output_dir, f\"page{page_index}_img_{int(x0)}_{int(y0)}.{ext}\")\n",
    "                # with open(img_filename, \"wb\") as imgf:\n",
    "                #     imgf.write(img)\n",
    "                # print(f\"Page {page_index}: image saved → {img_filename}\")\n",
    "            elif block[\"type\"] == 0:  # 文本块\n",
    "                text = block[\"lines\"]\n",
    "                bbox = block[\"bbox\"]\n",
    "                print(f\"Page {page_index} text block at {bbox}:\")\n",
    "                for line in text:\n",
    "                    spans = line[\"spans\"]\n",
    "                    for span in spans:\n",
    "                        print(span[\"text\"], end=\"\")\n",
    "                print(\"\\n\")\n"
   ],
   "outputs": [],
   "execution_count": null
  },
  {
   "metadata": {},
   "cell_type": "code",
   "source": "extract_with_layout(\"C:/Users/Tommy/Downloads/ESGreporttemplate/A/2023-CSR-report_e.pdf\", output_dir=\"output\")",
   "id": "d599c453f8276d36",
   "outputs": [],
   "execution_count": null
  }
 ],
 "metadata": {
  "kernelspec": {
   "display_name": "Python 3",
   "language": "python",
   "name": "python3"
  },
  "language_info": {
   "codemirror_mode": {
    "name": "ipython",
    "version": 2
   },
   "file_extension": ".py",
   "mimetype": "text/x-python",
   "name": "python",
   "nbconvert_exporter": "python",
   "pygments_lexer": "ipython2",
   "version": "2.7.6"
  }
 },
 "nbformat": 4,
 "nbformat_minor": 5
}
